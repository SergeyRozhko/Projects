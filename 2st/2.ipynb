{
 "cells": [
  {
   "cell_type": "markdown",
   "id": "0cb7f464",
   "metadata": {
    "toc": true
   },
   "source": [
    "<h1>Table of Contents<span class=\"tocSkip\"></span></h1>\n",
    "<div class=\"toc\"><ul class=\"toc-item\"><li><ul class=\"toc-item\"><li><span><a href=\"#Проект:\n",
    "Анализ-поведения-пользователей-интернет-магазина-\" data-toc-modified-id=\"Проект:\n",
    "Анализ-поведения-пользователей-интернет-магазина--0.1\"><span class=\"toc-item-num\">0.1&nbsp;&nbsp;</span><center>Проект:</center>\n",
    "Анализ поведения пользователей интернет-магазина </a></span></li><li><span><a href=\"#Описание:\n",
    "Мы-работаем-в-стартапе,-который-продаёт-продукты-питания.-Нужно-разобраться,-как-ведут-себя-пользователи-мобильного-приложения.-\n",
    "\n",
    "Для-этого-нам-нужно-изучить-воронку-продаж-и-исследовать-результаты-A/A/B-эксперимента.-\" data-toc-modified-id=\"Описание:\n",
    "Мы-работаем-в-стартапе,-который-продаёт-продукты-питания.-Нужно-разобраться,-как-ведут-себя-пользователи-мобильного-приложения.-\n",
    "\n",
    "Для-этого-нам-нужно-изучить-воронку-продаж-и-исследовать-результаты-A/A/B-эксперимента.--0.2\"><span class=\"toc-item-num\">0.2&nbsp;&nbsp;</span><center>Описание:</center>\n",
    "Мы работаем в стартапе, который продаёт продукты питания. Нужно разобраться, как ведут себя пользователи мобильного приложения. \n",
    "\n",
    "<p>Для этого нам нужно изучить воронку продаж и исследовать результаты A/A/B-эксперимента. </p></a></span></li><li><span><a href=\"#Задача:\n",
    "Разобраться,-как-ведут-себя-пользователи-мобильного-приложения.-\" data-toc-modified-id=\"Задача:\n",
    "Разобраться,-как-ведут-себя-пользователи-мобильного-приложения.--0.3\"><span class=\"toc-item-num\">0.3&nbsp;&nbsp;</span><center>Задача:</center>\n",
    "Разобраться, как ведут себя пользователи мобильного приложения. </a></span></li><li><span><a href=\"#Цель:\n",
    "состоит-в-улучшении-показателей-интернет-магазина\" data-toc-modified-id=\"Цель:\n",
    "состоит-в-улучшении-показателей-интернет-магазина-0.4\"><span class=\"toc-item-num\">0.4&nbsp;&nbsp;</span><center>Цель:</center>\n",
    "состоит в улучшении показателей интернет-магазина</a></span></li><li><span><a href=\"#Информация-о-даннных:\n",
    "Мы-получили-данные-о-действиях/событиях-пользователей\" data-toc-modified-id=\"Информация-о-даннных:\n",
    "Мы-получили-данные-о-действиях/событиях-пользователей-0.5\"><span class=\"toc-item-num\">0.5&nbsp;&nbsp;</span><center>Информация о даннных:</center>\n",
    "Мы получили данные о действиях/событиях пользователей</a></span></li><li><span><a href=\"#План\" data-toc-modified-id=\"План-0.6\"><span class=\"toc-item-num\">0.6&nbsp;&nbsp;</span><center>План</center></a></span></li></ul></li><li><span><a href=\"#Откроем-файл-с-данными-и-изучим-общую-информацию\" data-toc-modified-id=\"Откроем-файл-с-данными-и-изучим-общую-информацию-1\"><span class=\"toc-item-num\">1&nbsp;&nbsp;</span>Откроем файл с данными и изучим общую информацию</a></span><ul class=\"toc-item\"><li><span><a href=\"#Вывод:\" data-toc-modified-id=\"Вывод:-1.1\"><span class=\"toc-item-num\">1.1&nbsp;&nbsp;</span>Вывод:</a></span></li></ul></li><li><span><a href=\"#Подготовим-данные\" data-toc-modified-id=\"Подготовим-данные-2\"><span class=\"toc-item-num\">2&nbsp;&nbsp;</span>Подготовим данные</a></span><ul class=\"toc-item\"><li><span><a href=\"#Вывод:\" data-toc-modified-id=\"Вывод:-2.1\"><span class=\"toc-item-num\">2.1&nbsp;&nbsp;</span>Вывод:</a></span></li></ul></li><li><span><a href=\"#Изучим-и-проверим-данные\" data-toc-modified-id=\"Изучим-и-проверим-данные-3\"><span class=\"toc-item-num\">3&nbsp;&nbsp;</span>Изучим и проверим данные</a></span><ul class=\"toc-item\"><li><span><a href=\"#Вывод:\" data-toc-modified-id=\"Вывод:-3.1\"><span class=\"toc-item-num\">3.1&nbsp;&nbsp;</span>Вывод:</a></span></li></ul></li><li><span><a href=\"#Изучим-воронку-событий\" data-toc-modified-id=\"Изучим-воронку-событий-4\"><span class=\"toc-item-num\">4&nbsp;&nbsp;</span>Изучим воронку событий</a></span><ul class=\"toc-item\"><li><span><a href=\"#Вывод:\" data-toc-modified-id=\"Вывод:-4.1\"><span class=\"toc-item-num\">4.1&nbsp;&nbsp;</span>Вывод:</a></span></li></ul></li><li><span><a href=\"#Изучим-результаты-эксперимента\" data-toc-modified-id=\"Изучим-результаты-эксперимента-5\"><span class=\"toc-item-num\">5&nbsp;&nbsp;</span>Изучим результаты эксперимента</a></span><ul class=\"toc-item\"><li><span><a href=\"#Проверим,-находят-ли-статистические-критерии-разницу-между-выборками-246-и-247.\" data-toc-modified-id=\"Проверим,-находят-ли-статистические-критерии-разницу-между-выборками-246-и-247.-5.1\"><span class=\"toc-item-num\">5.1&nbsp;&nbsp;</span>Проверим, находят ли статистические критерии разницу между выборками 246 и 247.</a></span></li><li><span><a href=\"#Проверим,-будет-ли-отличие-в-доли-пользователей,-совершивших-самое-популярное-событие-между-контрольными-группами-статистически-достоверным.\" data-toc-modified-id=\"Проверим,-будет-ли-отличие-в-доли-пользователей,-совершивших-самое-популярное-событие-между-контрольными-группами-статистически-достоверным.-5.2\"><span class=\"toc-item-num\">5.2&nbsp;&nbsp;</span>Проверим, будет ли отличие в доли пользователей, совершивших самое популярное событие между контрольными группами статистически достоверным.</a></span></li><li><span><a href=\"#Проверим,-будет-ли-отличие-между-контрольными-группами-статистически-достоверным-для-всех-других-событий.\" data-toc-modified-id=\"Проверим,-будет-ли-отличие-между-контрольными-группами-статистически-достоверным-для-всех-других-событий.-5.3\"><span class=\"toc-item-num\">5.3&nbsp;&nbsp;</span>Проверим, будет ли отличие между контрольными группами статистически достоверным для всех других событий.</a></span></li><li><span><a href=\"#Сравним-результаты-экспериментальной-группы-с-каждой-из-контрольных-групп-в-отдельности-по-каждому-событию.\" data-toc-modified-id=\"Сравним-результаты-экспериментальной-группы-с-каждой-из-контрольных-групп-в-отдельности-по-каждому-событию.-5.4\"><span class=\"toc-item-num\">5.4&nbsp;&nbsp;</span>Сравним результаты экспериментальной группы с каждой из контрольных групп в отдельности по каждому событию.</a></span></li><li><span><a href=\"#Сравним-результаты-экспериментальной-группы-с-объединенными-контрольными-группами-по-каждому-событию.\" data-toc-modified-id=\"Сравним-результаты-экспериментальной-группы-с-объединенными-контрольными-группами-по-каждому-событию.-5.5\"><span class=\"toc-item-num\">5.5&nbsp;&nbsp;</span>Сравним результаты экспериментальной группы с объединенными контрольными группами по каждому событию.</a></span></li><li><span><a href=\"#Посчитаем,-сколько-проверок-статистических-гипотез-мы-сделали-и-определим-какой-уровень-значимости-стоит-применить.\" data-toc-modified-id=\"Посчитаем,-сколько-проверок-статистических-гипотез-мы-сделали-и-определим-какой-уровень-значимости-стоит-применить.-5.6\"><span class=\"toc-item-num\">5.6&nbsp;&nbsp;</span>Посчитаем, сколько проверок статистических гипотез мы сделали и определим какой уровень значимости стоит применить.</a></span></li></ul></li><li><span><a href=\"#Вывод:\" data-toc-modified-id=\"Вывод:-6\"><span class=\"toc-item-num\">6&nbsp;&nbsp;</span>Вывод:</a></span></li></ul></div>"
   ]
  },
  {
   "cell_type": "markdown",
   "id": "807131e1",
   "metadata": {},
   "source": [
    "<h3><center>Проект:</center>\n",
    "Анализ поведения пользователей интернет-магазина </h3>\n"
   ]
  },
  {
   "cell_type": "markdown",
   "id": "b0762ead",
   "metadata": {},
   "source": [
    "<h3><center>Описание:</center>\n",
    "Мы работаем в стартапе, который продаёт продукты питания. Нужно разобраться, как ведут себя пользователи мобильного приложения. \n",
    "\n",
    "Для этого нам нужно изучить воронку продаж и исследовать результаты A/A/B-эксперимента. </h3>"
   ]
  },
  {
   "cell_type": "markdown",
   "id": "1a218e4e",
   "metadata": {},
   "source": [
    "<h3><center>Задача:</center>\n",
    "Разобраться, как ведут себя пользователи мобильного приложения. </h3>"
   ]
  },
  {
   "cell_type": "markdown",
   "id": "77cd6888",
   "metadata": {},
   "source": [
    "<h3><center>Цель:</center>\n",
    "состоит в улучшении показателей интернет-магазина</h3>"
   ]
  },
  {
   "cell_type": "markdown",
   "id": "3323b708",
   "metadata": {},
   "source": [
    "\n",
    "<h3><center>Информация о даннных:</center>\n",
    "Мы получили данные о действиях/событиях пользователей</h3>\n"
   ]
  },
  {
   "cell_type": "markdown",
   "id": "66a23bed",
   "metadata": {},
   "source": [
    "<h3><center>План</center></h3>\n",
    "\n",
    "1. Загрузим данные\n",
    "\n",
    "2. Подготовим данные к анализу\n",
    "\n",
    "3. Изучим и проверим данные\n",
    "\n",
    "4. Изучим воронку событий\n",
    "\n",
    "5. Изучим результаты эксперимента\n"
   ]
  },
  {
   "cell_type": "markdown",
   "id": "0737cdda",
   "metadata": {},
   "source": [
    "## Откроем файл с данными и изучим общую информацию"
   ]
  },
  {
   "cell_type": "code",
   "execution_count": 1,
   "id": "12b6f4c9",
   "metadata": {},
   "outputs": [],
   "source": [
    "import pandas as pd\n",
    "import datetime as dt\n",
    "import numpy as np\n",
    "import matplotlib.pyplot as plt\n",
    "import scipy.stats as stats\n",
    "from scipy import stats as st"
   ]
  },
  {
   "cell_type": "code",
   "execution_count": 2,
   "id": "4f8a56a9",
   "metadata": {},
   "outputs": [],
   "source": [
    "try:\n",
    "    data = pd.read_csv('logs_exp.csv', sep='\\t')\n",
    "except:\n",
    "    data = pd.read_csv('https://code.s3.yandex.net/datasets/logs_exp.csv', sep='\\t')\n",
    "\n",
    "pd.set_option('display.max_columns', None)  "
   ]
  },
  {
   "cell_type": "code",
   "execution_count": 3,
   "id": "ffa92d9a",
   "metadata": {},
   "outputs": [
    {
     "data": {
      "text/html": [
       "<div>\n",
       "<style scoped>\n",
       "    .dataframe tbody tr th:only-of-type {\n",
       "        vertical-align: middle;\n",
       "    }\n",
       "\n",
       "    .dataframe tbody tr th {\n",
       "        vertical-align: top;\n",
       "    }\n",
       "\n",
       "    .dataframe thead th {\n",
       "        text-align: right;\n",
       "    }\n",
       "</style>\n",
       "<table border=\"1\" class=\"dataframe\">\n",
       "  <thead>\n",
       "    <tr style=\"text-align: right;\">\n",
       "      <th></th>\n",
       "      <th>EventName</th>\n",
       "      <th>DeviceIDHash</th>\n",
       "      <th>EventTimestamp</th>\n",
       "      <th>ExpId</th>\n",
       "    </tr>\n",
       "  </thead>\n",
       "  <tbody>\n",
       "    <tr>\n",
       "      <th>0</th>\n",
       "      <td>MainScreenAppear</td>\n",
       "      <td>4575588528974610257</td>\n",
       "      <td>1564029816</td>\n",
       "      <td>246</td>\n",
       "    </tr>\n",
       "    <tr>\n",
       "      <th>1</th>\n",
       "      <td>MainScreenAppear</td>\n",
       "      <td>7416695313311560658</td>\n",
       "      <td>1564053102</td>\n",
       "      <td>246</td>\n",
       "    </tr>\n",
       "    <tr>\n",
       "      <th>2</th>\n",
       "      <td>PaymentScreenSuccessful</td>\n",
       "      <td>3518123091307005509</td>\n",
       "      <td>1564054127</td>\n",
       "      <td>248</td>\n",
       "    </tr>\n",
       "    <tr>\n",
       "      <th>3</th>\n",
       "      <td>CartScreenAppear</td>\n",
       "      <td>3518123091307005509</td>\n",
       "      <td>1564054127</td>\n",
       "      <td>248</td>\n",
       "    </tr>\n",
       "    <tr>\n",
       "      <th>4</th>\n",
       "      <td>PaymentScreenSuccessful</td>\n",
       "      <td>6217807653094995999</td>\n",
       "      <td>1564055322</td>\n",
       "      <td>248</td>\n",
       "    </tr>\n",
       "  </tbody>\n",
       "</table>\n",
       "</div>"
      ],
      "text/plain": [
       "                 EventName         DeviceIDHash  EventTimestamp  ExpId\n",
       "0         MainScreenAppear  4575588528974610257      1564029816    246\n",
       "1         MainScreenAppear  7416695313311560658      1564053102    246\n",
       "2  PaymentScreenSuccessful  3518123091307005509      1564054127    248\n",
       "3         CartScreenAppear  3518123091307005509      1564054127    248\n",
       "4  PaymentScreenSuccessful  6217807653094995999      1564055322    248"
      ]
     },
     "metadata": {},
     "output_type": "display_data"
    }
   ],
   "source": [
    "display(data.head(5))"
   ]
  },
  {
   "cell_type": "code",
   "execution_count": 4,
   "id": "e777aa11",
   "metadata": {
    "scrolled": true
   },
   "outputs": [
    {
     "name": "stdout",
     "output_type": "stream",
     "text": [
      "<class 'pandas.core.frame.DataFrame'>\n",
      "RangeIndex: 244126 entries, 0 to 244125\n",
      "Data columns (total 4 columns):\n",
      " #   Column          Non-Null Count   Dtype \n",
      "---  ------          --------------   ----- \n",
      " 0   EventName       244126 non-null  object\n",
      " 1   DeviceIDHash    244126 non-null  int64 \n",
      " 2   EventTimestamp  244126 non-null  int64 \n",
      " 3   ExpId           244126 non-null  int64 \n",
      "dtypes: int64(3), object(1)\n",
      "memory usage: 7.5+ MB\n"
     ]
    }
   ],
   "source": [
    "data.info()"
   ]
  },
  {
   "cell_type": "markdown",
   "id": "d9971631",
   "metadata": {},
   "source": [
    "### Вывод:\n",
    "1. Нам доступны данные о действиях пользователей. Мы видим:\n",
    " - событие, которые было сделаное пользователем\n",
    " - уникальный идентификатор пользователя\n",
    " - время события\n",
    " - номер группы\n",
    " \n",
    "2. Пропусков не обнаружено. Всего 244 126 логов  "
   ]
  },
  {
   "cell_type": "markdown",
   "id": "262a36f6",
   "metadata": {},
   "source": [
    "## Подготовим данные"
   ]
  },
  {
   "cell_type": "code",
   "execution_count": 5,
   "id": "2b831830",
   "metadata": {},
   "outputs": [
    {
     "data": {
      "text/plain": [
       "Index(['event_name', 'user_id', 'event_time', 'exp_id'], dtype='object')"
      ]
     },
     "execution_count": 5,
     "metadata": {},
     "output_type": "execute_result"
    }
   ],
   "source": [
    "# переименнуем колонки\n",
    "data.rename(columns = {'EventName': 'event_name', 'DeviceIDHash': 'user_id', 'EventTimestamp': 'event_time', 'ExpId': 'exp_id'}, inplace = True)\n",
    "data.columns"
   ]
  },
  {
   "cell_type": "code",
   "execution_count": 6,
   "id": "9cfa23c2",
   "metadata": {},
   "outputs": [
    {
     "data": {
      "text/plain": [
       "244126"
      ]
     },
     "execution_count": 6,
     "metadata": {},
     "output_type": "execute_result"
    }
   ],
   "source": [
    "# Проверим и удалим дубликаты\n",
    "old_data = data.copy()\n",
    "old_data.shape[0]"
   ]
  },
  {
   "cell_type": "code",
   "execution_count": 7,
   "id": "1b468034",
   "metadata": {},
   "outputs": [
    {
     "data": {
      "text/plain": [
       "413"
      ]
     },
     "execution_count": 7,
     "metadata": {},
     "output_type": "execute_result"
    }
   ],
   "source": [
    "# Нашли 413 дубликатов\n",
    "data.duplicated().sum()"
   ]
  },
  {
   "cell_type": "code",
   "execution_count": 8,
   "id": "d3837184",
   "metadata": {},
   "outputs": [
    {
     "data": {
      "text/plain": [
       "0"
      ]
     },
     "execution_count": 8,
     "metadata": {},
     "output_type": "execute_result"
    }
   ],
   "source": [
    "data.drop_duplicates(inplace = True)\n",
    "data.duplicated().sum()"
   ]
  },
  {
   "cell_type": "code",
   "execution_count": 9,
   "id": "be8e0917",
   "metadata": {},
   "outputs": [
    {
     "data": {
      "text/html": [
       "<div>\n",
       "<style scoped>\n",
       "    .dataframe tbody tr th:only-of-type {\n",
       "        vertical-align: middle;\n",
       "    }\n",
       "\n",
       "    .dataframe tbody tr th {\n",
       "        vertical-align: top;\n",
       "    }\n",
       "\n",
       "    .dataframe thead th {\n",
       "        text-align: right;\n",
       "    }\n",
       "</style>\n",
       "<table border=\"1\" class=\"dataframe\">\n",
       "  <thead>\n",
       "    <tr style=\"text-align: right;\">\n",
       "      <th></th>\n",
       "      <th>user_id</th>\n",
       "      <th>exp_id</th>\n",
       "    </tr>\n",
       "  </thead>\n",
       "  <tbody>\n",
       "  </tbody>\n",
       "</table>\n",
       "</div>"
      ],
      "text/plain": [
       "Empty DataFrame\n",
       "Columns: [user_id, exp_id]\n",
       "Index: []"
      ]
     },
     "execution_count": 9,
     "metadata": {},
     "output_type": "execute_result"
    }
   ],
   "source": [
    "data.groupby('user_id').agg({'exp_id':'nunique'}).query('exp_id > 1').reset_index()"
   ]
  },
  {
   "cell_type": "markdown",
   "id": "cee7d67f",
   "metadata": {},
   "source": [
    " Пользователей в разных группах нет"
   ]
  },
  {
   "cell_type": "code",
   "execution_count": 10,
   "id": "e20468ce",
   "metadata": {},
   "outputs": [],
   "source": [
    "# Добавим столбец даты и времени, а также отдельный столбец дат\n",
    "data['time'] = pd.to_datetime(data['event_time'], unit='s') \n",
    "data['day'] = data['time'].dt.date"
   ]
  },
  {
   "cell_type": "code",
   "execution_count": 11,
   "id": "a396db8a",
   "metadata": {},
   "outputs": [
    {
     "data": {
      "text/html": [
       "<div>\n",
       "<style scoped>\n",
       "    .dataframe tbody tr th:only-of-type {\n",
       "        vertical-align: middle;\n",
       "    }\n",
       "\n",
       "    .dataframe tbody tr th {\n",
       "        vertical-align: top;\n",
       "    }\n",
       "\n",
       "    .dataframe thead th {\n",
       "        text-align: right;\n",
       "    }\n",
       "</style>\n",
       "<table border=\"1\" class=\"dataframe\">\n",
       "  <thead>\n",
       "    <tr style=\"text-align: right;\">\n",
       "      <th></th>\n",
       "      <th>event_name</th>\n",
       "      <th>user_id</th>\n",
       "      <th>event_time</th>\n",
       "      <th>exp_id</th>\n",
       "      <th>time</th>\n",
       "      <th>day</th>\n",
       "    </tr>\n",
       "  </thead>\n",
       "  <tbody>\n",
       "    <tr>\n",
       "      <th>0</th>\n",
       "      <td>MainScreenAppear</td>\n",
       "      <td>4575588528974610257</td>\n",
       "      <td>1564029816</td>\n",
       "      <td>246</td>\n",
       "      <td>2019-07-25 04:43:36</td>\n",
       "      <td>2019-07-25</td>\n",
       "    </tr>\n",
       "    <tr>\n",
       "      <th>1</th>\n",
       "      <td>MainScreenAppear</td>\n",
       "      <td>7416695313311560658</td>\n",
       "      <td>1564053102</td>\n",
       "      <td>246</td>\n",
       "      <td>2019-07-25 11:11:42</td>\n",
       "      <td>2019-07-25</td>\n",
       "    </tr>\n",
       "    <tr>\n",
       "      <th>2</th>\n",
       "      <td>PaymentScreenSuccessful</td>\n",
       "      <td>3518123091307005509</td>\n",
       "      <td>1564054127</td>\n",
       "      <td>248</td>\n",
       "      <td>2019-07-25 11:28:47</td>\n",
       "      <td>2019-07-25</td>\n",
       "    </tr>\n",
       "    <tr>\n",
       "      <th>3</th>\n",
       "      <td>CartScreenAppear</td>\n",
       "      <td>3518123091307005509</td>\n",
       "      <td>1564054127</td>\n",
       "      <td>248</td>\n",
       "      <td>2019-07-25 11:28:47</td>\n",
       "      <td>2019-07-25</td>\n",
       "    </tr>\n",
       "    <tr>\n",
       "      <th>4</th>\n",
       "      <td>PaymentScreenSuccessful</td>\n",
       "      <td>6217807653094995999</td>\n",
       "      <td>1564055322</td>\n",
       "      <td>248</td>\n",
       "      <td>2019-07-25 11:48:42</td>\n",
       "      <td>2019-07-25</td>\n",
       "    </tr>\n",
       "  </tbody>\n",
       "</table>\n",
       "</div>"
      ],
      "text/plain": [
       "                event_name              user_id  event_time  exp_id  \\\n",
       "0         MainScreenAppear  4575588528974610257  1564029816     246   \n",
       "1         MainScreenAppear  7416695313311560658  1564053102     246   \n",
       "2  PaymentScreenSuccessful  3518123091307005509  1564054127     248   \n",
       "3         CartScreenAppear  3518123091307005509  1564054127     248   \n",
       "4  PaymentScreenSuccessful  6217807653094995999  1564055322     248   \n",
       "\n",
       "                 time         day  \n",
       "0 2019-07-25 04:43:36  2019-07-25  \n",
       "1 2019-07-25 11:11:42  2019-07-25  \n",
       "2 2019-07-25 11:28:47  2019-07-25  \n",
       "3 2019-07-25 11:28:47  2019-07-25  \n",
       "4 2019-07-25 11:48:42  2019-07-25  "
      ]
     },
     "metadata": {},
     "output_type": "display_data"
    }
   ],
   "source": [
    "display(data.head(5)) # Проверим данные"
   ]
  },
  {
   "cell_type": "code",
   "execution_count": 12,
   "id": "e3cebd79",
   "metadata": {},
   "outputs": [
    {
     "name": "stdout",
     "output_type": "stream",
     "text": [
      "<class 'pandas.core.frame.DataFrame'>\n",
      "Int64Index: 243713 entries, 0 to 244125\n",
      "Data columns (total 6 columns):\n",
      " #   Column      Non-Null Count   Dtype         \n",
      "---  ------      --------------   -----         \n",
      " 0   event_name  243713 non-null  object        \n",
      " 1   user_id     243713 non-null  int64         \n",
      " 2   event_time  243713 non-null  int64         \n",
      " 3   exp_id      243713 non-null  int64         \n",
      " 4   time        243713 non-null  datetime64[ns]\n",
      " 5   day         243713 non-null  object        \n",
      "dtypes: datetime64[ns](1), int64(3), object(2)\n",
      "memory usage: 13.0+ MB\n"
     ]
    }
   ],
   "source": [
    "data.info()"
   ]
  },
  {
   "cell_type": "markdown",
   "id": "9627c9f5",
   "metadata": {},
   "source": [
    "### Вывод:\n",
    "1. Мы переименовали столбцы, нашли и удалили дубликаты, добавили столбцы даты и времени, а также проверили наличие пользователей, попавших в обе группы. \n",
    "2. Получили подготовленные данные. Нам доступно 243 713 логов."
   ]
  },
  {
   "cell_type": "markdown",
   "id": "01092741",
   "metadata": {},
   "source": [
    "## Изучим и проверим данные"
   ]
  },
  {
   "cell_type": "code",
   "execution_count": 13,
   "id": "1442a33d",
   "metadata": {},
   "outputs": [
    {
     "data": {
      "text/plain": [
       "MainScreenAppear           119101\n",
       "OffersScreenAppear          46808\n",
       "CartScreenAppear            42668\n",
       "PaymentScreenSuccessful     34118\n",
       "Tutorial                     1018\n",
       "Name: event_name, dtype: int64"
      ]
     },
     "execution_count": 13,
     "metadata": {},
     "output_type": "execute_result"
    }
   ],
   "source": [
    "data['event_name'].value_counts()"
   ]
  },
  {
   "cell_type": "markdown",
   "id": "91045793",
   "metadata": {},
   "source": [
    "Выяснили, что в логе 5 событий. При этом событие \"MainScreenAppear\" было чаще всего 119101 раз."
   ]
  },
  {
   "cell_type": "code",
   "execution_count": 14,
   "id": "d1cf46d7",
   "metadata": {},
   "outputs": [
    {
     "data": {
      "text/plain": [
       "7551"
      ]
     },
     "execution_count": 14,
     "metadata": {},
     "output_type": "execute_result"
    }
   ],
   "source": [
    "data['user_id'].nunique()"
   ]
  },
  {
   "cell_type": "markdown",
   "id": "b476f92f",
   "metadata": {},
   "source": [
    "Выяснили, что в логе 7551 пользователей. "
   ]
  },
  {
   "cell_type": "code",
   "execution_count": 15,
   "id": "16c62e89",
   "metadata": {},
   "outputs": [],
   "source": [
    "avg_event = data.groupby('user_id')['event_name'].agg('count')"
   ]
  },
  {
   "cell_type": "code",
   "execution_count": 16,
   "id": "2f87be1c",
   "metadata": {},
   "outputs": [
    {
     "data": {
      "text/plain": [
       "count    7551.000000\n",
       "mean       32.275593\n",
       "std        65.154219\n",
       "min         1.000000\n",
       "25%         9.000000\n",
       "50%        20.000000\n",
       "75%        37.000000\n",
       "max      2307.000000\n",
       "Name: event_name, dtype: float64"
      ]
     },
     "execution_count": 16,
     "metadata": {},
     "output_type": "execute_result"
    }
   ],
   "source": [
    "avg_event.describe()"
   ]
  },
  {
   "cell_type": "markdown",
   "id": "dc997f11",
   "metadata": {},
   "source": [
    "Выяснили, что в среднем на пользователя приходится 32 события, а мединное значение равняется 20 событиям"
   ]
  },
  {
   "cell_type": "code",
   "execution_count": 17,
   "id": "e5f3805d",
   "metadata": {},
   "outputs": [
    {
     "data": {
      "text/plain": [
       "Timestamp('2019-07-25 04:43:36')"
      ]
     },
     "execution_count": 17,
     "metadata": {},
     "output_type": "execute_result"
    }
   ],
   "source": [
    "data['time'].min()"
   ]
  },
  {
   "cell_type": "code",
   "execution_count": 18,
   "id": "981378c4",
   "metadata": {},
   "outputs": [
    {
     "data": {
      "text/plain": [
       "Timestamp('2019-08-07 21:15:17')"
      ]
     },
     "execution_count": 18,
     "metadata": {},
     "output_type": "execute_result"
    }
   ],
   "source": [
    "data['time'].max()"
   ]
  },
  {
   "cell_type": "code",
   "execution_count": 19,
   "id": "ab4b91f6",
   "metadata": {},
   "outputs": [
    {
     "data": {
      "text/plain": [
       "Timedelta('13 days 16:31:41')"
      ]
     },
     "execution_count": 19,
     "metadata": {},
     "output_type": "execute_result"
    }
   ],
   "source": [
    "data['time'].max() - data['time'].min() "
   ]
  },
  {
   "cell_type": "markdown",
   "id": "e047e700",
   "metadata": {},
   "source": [
    "Выяснили, что самая раняя дата - 2019-07-25 04:43:36, самая поздняя - '2019-08-07 21:15:17'. Между датами 13 дней. "
   ]
  },
  {
   "cell_type": "markdown",
   "id": "c8c2e831",
   "metadata": {},
   "source": [
    "Построим столбчатую диаграмму, которая отобразит количество событий в зависимости от времени"
   ]
  },
  {
   "cell_type": "code",
   "execution_count": 20,
   "id": "b04ab83d",
   "metadata": {},
   "outputs": [
    {
     "data": {
      "image/png": "[encoded data removed]",
      "text/plain": [
       "<Figure size 1080x360 with 1 Axes>"
      ]
     },
     "metadata": {
      "needs_background": "light"
     },
     "output_type": "display_data"
    }
   ],
   "source": [
    "plt.figure(figsize=(15,5))\n",
    "data['time'].hist(bins=150)\n",
    "plt.title('Гистограмма по дате и времени')\n",
    "plt.xlabel('Дата')\n",
    "plt.ylabel('Количество событий')\n",
    "plt.xticks(rotation=45)\n",
    "plt.show()"
   ]
  },
  {
   "cell_type": "code",
   "execution_count": 21,
   "id": "ad4d3458",
   "metadata": {},
   "outputs": [
    {
     "data": {
      "image/png": "[encoded data removed]",
      "text/plain": [
       "<Figure size 1080x360 with 1 Axes>"
      ]
     },
     "metadata": {
      "needs_background": "light"
     },
     "output_type": "display_data"
    }
   ],
   "source": [
    "group_246 = data.query('exp_id == 246')\n",
    "\n",
    "plt.figure(figsize=(15,5))\n",
    "group_246['time'].hist(bins=150)\n",
    "plt.title('Гистограмма по дате и времени по группе 246')\n",
    "plt.xlabel('Дата')\n",
    "plt.ylabel('Количество событий')\n",
    "plt.xticks(rotation=45)\n",
    "plt.show()"
   ]
  },
  {
   "cell_type": "code",
   "execution_count": 22,
   "id": "37394905",
   "metadata": {},
   "outputs": [
    {
     "data": {
      "image/png": "[encoded data removed]",
      "text/plain": [
       "<Figure size 1080x360 with 1 Axes>"
      ]
     },
     "metadata": {
      "needs_background": "light"
     },
     "output_type": "display_data"
    }
   ],
   "source": [
    "group_247 = data.query('exp_id == 247')\n",
    "\n",
    "plt.figure(figsize=(15,5))\n",
    "group_247['time'].hist(bins=150)\n",
    "plt.title('Гистограмма по дате и времени по группе 247')\n",
    "plt.xlabel('Дата')\n",
    "plt.ylabel('Количество событий')\n",
    "plt.xticks(rotation=45)\n",
    "plt.show()"
   ]
  },
  {
   "cell_type": "code",
   "execution_count": 23,
   "id": "bdf94bab",
   "metadata": {},
   "outputs": [
    {
     "data": {
      "image/png": "[encoded data removed]",
      "text/plain": [
       "<Figure size 1080x360 with 1 Axes>"
      ]
     },
     "metadata": {
      "needs_background": "light"
     },
     "output_type": "display_data"
    }
   ],
   "source": [
    "group_248 = data.query('exp_id == 248')\n",
    "\n",
    "plt.figure(figsize=(15,5))\n",
    "group_248['time'].hist(bins=150)\n",
    "plt.title('Гистограмма по дате и времени по группе 248')\n",
    "plt.xlabel('Дата')\n",
    "plt.ylabel('Количество событий')\n",
    "plt.xticks(rotation=45)\n",
    "plt.show()"
   ]
  },
  {
   "cell_type": "markdown",
   "id": "d983d86b",
   "metadata": {},
   "source": [
    "Видим, что до 01.08.2019 данных почти нет. Получается, что на самом деле нам предоставлены данные за период с 01.08.2019 до 07.08.2019. Поэтому данные до 01.08.2019 можем отбросить. "
   ]
  },
  {
   "cell_type": "code",
   "execution_count": 24,
   "id": "f3881583",
   "metadata": {},
   "outputs": [],
   "source": [
    "lim_date = pd.to_datetime('2019-08-01', format = '%Y-%m-%d') \n",
    "# Установим лимит по дате и отбросим ненужные данные."
   ]
  },
  {
   "cell_type": "code",
   "execution_count": 25,
   "id": "b0471f32",
   "metadata": {},
   "outputs": [],
   "source": [
    "good_data = data.query('time >= @lim_date')"
   ]
  },
  {
   "cell_type": "code",
   "execution_count": 26,
   "id": "bdedff35",
   "metadata": {},
   "outputs": [
    {
     "data": {
      "text/plain": [
       "Timestamp('2019-08-01 00:07:28')"
      ]
     },
     "execution_count": 26,
     "metadata": {},
     "output_type": "execute_result"
    }
   ],
   "source": [
    "good_data['time'].min() # Выполним проверку"
   ]
  },
  {
   "cell_type": "code",
   "execution_count": 27,
   "id": "6a84bb95",
   "metadata": {},
   "outputs": [
    {
     "data": {
      "text/plain": [
       "240887"
      ]
     },
     "execution_count": 27,
     "metadata": {},
     "output_type": "execute_result"
    }
   ],
   "source": [
    "good_data.shape[0]"
   ]
  },
  {
   "cell_type": "code",
   "execution_count": 28,
   "id": "ac3c014f",
   "metadata": {},
   "outputs": [
    {
     "data": {
      "text/plain": [
       "1.33"
      ]
     },
     "execution_count": 28,
     "metadata": {},
     "output_type": "execute_result"
    }
   ],
   "source": [
    "round((1 - (good_data.shape[0] / old_data.shape[0])) * 100, 2)"
   ]
  },
  {
   "cell_type": "markdown",
   "id": "ac8b52f8",
   "metadata": {},
   "source": [
    "Было удалено 1,3% данных. "
   ]
  },
  {
   "cell_type": "markdown",
   "id": "262a0356",
   "metadata": {},
   "source": [
    "<div class=\"alert alert-info\"> <b>Комментарий студента:</b> Исправляю</div>\n"
   ]
  },
  {
   "cell_type": "code",
   "execution_count": 29,
   "id": "d3f1a694",
   "metadata": {},
   "outputs": [
    {
     "data": {
      "text/plain": [
       "7551"
      ]
     },
     "execution_count": 29,
     "metadata": {},
     "output_type": "execute_result"
    }
   ],
   "source": [
    "data['user_id'].nunique() # уникальные пользователи до обработки"
   ]
  },
  {
   "cell_type": "code",
   "execution_count": 30,
   "id": "1c3a55cd",
   "metadata": {},
   "outputs": [
    {
     "data": {
      "text/plain": [
       "7534"
      ]
     },
     "execution_count": 30,
     "metadata": {},
     "output_type": "execute_result"
    }
   ],
   "source": [
    "good_data['user_id'].nunique() # уникальные пользователи после обработки"
   ]
  },
  {
   "cell_type": "code",
   "execution_count": 31,
   "id": "467d7e0c",
   "metadata": {},
   "outputs": [
    {
     "data": {
      "text/plain": [
       "17"
      ]
     },
     "execution_count": 31,
     "metadata": {},
     "output_type": "execute_result"
    }
   ],
   "source": [
    "data['user_id'].nunique() - good_data['user_id'].nunique() "
   ]
  },
  {
   "cell_type": "code",
   "execution_count": 32,
   "id": "e62d02ad",
   "metadata": {},
   "outputs": [
    {
     "data": {
      "text/plain": [
       "0.23"
      ]
     },
     "execution_count": 32,
     "metadata": {},
     "output_type": "execute_result"
    }
   ],
   "source": [
    "round((1 - (good_data['user_id'].nunique() / old_data['user_id'].nunique())) * 100, 2) "
   ]
  },
  {
   "cell_type": "markdown",
   "id": "fbed3c12",
   "metadata": {},
   "source": [
    "Мы потеряли 17 пользователей, что составляет 0,23% от первоначальных данных</div>"
   ]
  },
  {
   "cell_type": "code",
   "execution_count": 33,
   "id": "7471d88f",
   "metadata": {},
   "outputs": [
    {
     "data": {
      "text/plain": [
       "248    84563\n",
       "246    79302\n",
       "247    77022\n",
       "Name: exp_id, dtype: int64"
      ]
     },
     "execution_count": 33,
     "metadata": {},
     "output_type": "execute_result"
    }
   ],
   "source": [
    "good_data['exp_id'].value_counts() # Логи по группам"
   ]
  },
  {
   "cell_type": "code",
   "execution_count": 34,
   "id": "574c89fc",
   "metadata": {},
   "outputs": [
    {
     "data": {
      "text/html": [
       "<div>\n",
       "<style scoped>\n",
       "    .dataframe tbody tr th:only-of-type {\n",
       "        vertical-align: middle;\n",
       "    }\n",
       "\n",
       "    .dataframe tbody tr th {\n",
       "        vertical-align: top;\n",
       "    }\n",
       "\n",
       "    .dataframe thead th {\n",
       "        text-align: right;\n",
       "    }\n",
       "</style>\n",
       "<table border=\"1\" class=\"dataframe\">\n",
       "  <thead>\n",
       "    <tr style=\"text-align: right;\">\n",
       "      <th></th>\n",
       "      <th>exp_id</th>\n",
       "      <th>user_id</th>\n",
       "    </tr>\n",
       "  </thead>\n",
       "  <tbody>\n",
       "    <tr>\n",
       "      <th>0</th>\n",
       "      <td>248</td>\n",
       "      <td>2537</td>\n",
       "    </tr>\n",
       "    <tr>\n",
       "      <th>1</th>\n",
       "      <td>247</td>\n",
       "      <td>2513</td>\n",
       "    </tr>\n",
       "    <tr>\n",
       "      <th>2</th>\n",
       "      <td>246</td>\n",
       "      <td>2484</td>\n",
       "    </tr>\n",
       "  </tbody>\n",
       "</table>\n",
       "</div>"
      ],
      "text/plain": [
       "   exp_id  user_id\n",
       "0     248     2537\n",
       "1     247     2513\n",
       "2     246     2484"
      ]
     },
     "execution_count": 34,
     "metadata": {},
     "output_type": "execute_result"
    }
   ],
   "source": [
    "good_data.groupby('exp_id').agg({'user_id': 'nunique'}).sort_values(by='user_id', ascending=False).reset_index() \n",
    "# Количество пользователей по группам"
   ]
  },
  {
   "cell_type": "markdown",
   "id": "beb32b0b",
   "metadata": {},
   "source": [
    "Проверям численность груп после обработки данных и выясняем, что пользователи распределены по группам практически равномерно"
   ]
  },
  {
   "cell_type": "markdown",
   "id": "dbf541a6",
   "metadata": {},
   "source": [
    "### Вывод:\n",
    "1. Выяснили, что в данных отражено 5 событий и 7551 пользователей.\n",
    "2. В среднем на пользователя приходится 32 события, а медиана - 20 событий\n",
    "3. Построили столбчатую диаграмму и выяснили, что до 01.08.2019 данных почти нет, поэтому ненужный период мы отбросили. \n",
    "4. Проверили данные и убедились, что после их обработки они корректные."
   ]
  },
  {
   "cell_type": "markdown",
   "id": "2afea681",
   "metadata": {},
   "source": [
    "## Изучим воронку событий"
   ]
  },
  {
   "cell_type": "code",
   "execution_count": 35,
   "id": "eadf400e",
   "metadata": {},
   "outputs": [
    {
     "data": {
      "text/html": [
       "<div>\n",
       "<style scoped>\n",
       "    .dataframe tbody tr th:only-of-type {\n",
       "        vertical-align: middle;\n",
       "    }\n",
       "\n",
       "    .dataframe tbody tr th {\n",
       "        vertical-align: top;\n",
       "    }\n",
       "\n",
       "    .dataframe thead th {\n",
       "        text-align: right;\n",
       "    }\n",
       "</style>\n",
       "<table border=\"1\" class=\"dataframe\">\n",
       "  <thead>\n",
       "    <tr style=\"text-align: right;\">\n",
       "      <th></th>\n",
       "      <th>event_name</th>\n",
       "      <th>event_cnt</th>\n",
       "    </tr>\n",
       "  </thead>\n",
       "  <tbody>\n",
       "    <tr>\n",
       "      <th>0</th>\n",
       "      <td>MainScreenAppear</td>\n",
       "      <td>117328</td>\n",
       "    </tr>\n",
       "    <tr>\n",
       "      <th>1</th>\n",
       "      <td>OffersScreenAppear</td>\n",
       "      <td>46333</td>\n",
       "    </tr>\n",
       "    <tr>\n",
       "      <th>2</th>\n",
       "      <td>CartScreenAppear</td>\n",
       "      <td>42303</td>\n",
       "    </tr>\n",
       "    <tr>\n",
       "      <th>3</th>\n",
       "      <td>PaymentScreenSuccessful</td>\n",
       "      <td>33918</td>\n",
       "    </tr>\n",
       "    <tr>\n",
       "      <th>4</th>\n",
       "      <td>Tutorial</td>\n",
       "      <td>1005</td>\n",
       "    </tr>\n",
       "  </tbody>\n",
       "</table>\n",
       "</div>"
      ],
      "text/plain": [
       "                event_name  event_cnt\n",
       "0         MainScreenAppear     117328\n",
       "1       OffersScreenAppear      46333\n",
       "2         CartScreenAppear      42303\n",
       "3  PaymentScreenSuccessful      33918\n",
       "4                 Tutorial       1005"
      ]
     },
     "execution_count": 35,
     "metadata": {},
     "output_type": "execute_result"
    }
   ],
   "source": [
    "evenvt_cnt = good_data['event_name'].value_counts().reset_index()\n",
    "evenvt_cnt = pd.DataFrame(evenvt_cnt)\n",
    "evenvt_cnt.rename(columns = {'index': 'event_name', 'event_name': 'event_cnt'}, inplace = True)\n",
    "evenvt_cnt.columns\n",
    "evenvt_cnt"
   ]
  },
  {
   "cell_type": "markdown",
   "id": "aed68bd3",
   "metadata": {},
   "source": [
    "Видим, что чаще всего встречается событие MainScreenAppear.            "
   ]
  },
  {
   "cell_type": "code",
   "execution_count": 36,
   "id": "fe667895",
   "metadata": {},
   "outputs": [
    {
     "data": {
      "text/html": [
       "<div>\n",
       "<style scoped>\n",
       "    .dataframe tbody tr th:only-of-type {\n",
       "        vertical-align: middle;\n",
       "    }\n",
       "\n",
       "    .dataframe tbody tr th {\n",
       "        vertical-align: top;\n",
       "    }\n",
       "\n",
       "    .dataframe thead th {\n",
       "        text-align: right;\n",
       "    }\n",
       "</style>\n",
       "<table border=\"1\" class=\"dataframe\">\n",
       "  <thead>\n",
       "    <tr style=\"text-align: right;\">\n",
       "      <th></th>\n",
       "      <th>event_name</th>\n",
       "      <th>user_id</th>\n",
       "      <th>event_cnt</th>\n",
       "      <th>per</th>\n",
       "    </tr>\n",
       "  </thead>\n",
       "  <tbody>\n",
       "    <tr>\n",
       "      <th>0</th>\n",
       "      <td>MainScreenAppear</td>\n",
       "      <td>7419</td>\n",
       "      <td>117328</td>\n",
       "      <td>98.5</td>\n",
       "    </tr>\n",
       "    <tr>\n",
       "      <th>1</th>\n",
       "      <td>OffersScreenAppear</td>\n",
       "      <td>4593</td>\n",
       "      <td>46333</td>\n",
       "      <td>61.0</td>\n",
       "    </tr>\n",
       "    <tr>\n",
       "      <th>2</th>\n",
       "      <td>CartScreenAppear</td>\n",
       "      <td>3734</td>\n",
       "      <td>42303</td>\n",
       "      <td>49.6</td>\n",
       "    </tr>\n",
       "    <tr>\n",
       "      <th>3</th>\n",
       "      <td>PaymentScreenSuccessful</td>\n",
       "      <td>3539</td>\n",
       "      <td>33918</td>\n",
       "      <td>47.0</td>\n",
       "    </tr>\n",
       "    <tr>\n",
       "      <th>4</th>\n",
       "      <td>Tutorial</td>\n",
       "      <td>840</td>\n",
       "      <td>1005</td>\n",
       "      <td>11.1</td>\n",
       "    </tr>\n",
       "  </tbody>\n",
       "</table>\n",
       "</div>"
      ],
      "text/plain": [
       "                event_name  user_id  event_cnt   per\n",
       "0         MainScreenAppear     7419     117328  98.5\n",
       "1       OffersScreenAppear     4593      46333  61.0\n",
       "2         CartScreenAppear     3734      42303  49.6\n",
       "3  PaymentScreenSuccessful     3539      33918  47.0\n",
       "4                 Tutorial      840       1005  11.1"
      ]
     },
     "execution_count": 36,
     "metadata": {},
     "output_type": "execute_result"
    }
   ],
   "source": [
    "user_per_event = good_data.groupby('event_name').agg({'user_id': 'nunique'}).sort_values(by='user_id', ascending=False).reset_index()\n",
    "user_per_event = user_per_event.merge(evenvt_cnt, on='event_name')\n",
    "user_per_event['per'] = round(user_per_event['user_id'] / good_data['user_id'].nunique(), 3) * 100\n",
    "user_per_event"
   ]
  },
  {
   "cell_type": "markdown",
   "id": "e03f4865",
   "metadata": {},
   "source": [
    "Видим, что больше всего пользователей совершили событие MainScreenAppear (98,5%), меньше всего Tutorial (11,1%)"
   ]
  },
  {
   "cell_type": "markdown",
   "id": "d3bf5c7a",
   "metadata": {},
   "source": [
    "1. События идут в следующем порядке: MainScreenAppear (открытие приложения) - OffersScreenAppear (экран с предложенными товарами) - CartScreenAppear (появление экрана выбора карт для оплаты) - PaymentScreenSuccessful (экран с отображением успешного платежа) - Tutorial (инструкция по работе приложения)\n",
    "\n",
    "2. Можем сказать, что все события идут в правильном порядке. Тем не менее, выбивается событие Tutorial. По всей видимости, не всем пользователям нужна инструкция по приложению, так как разработчики стараются сделать его интуитивно понятным для пользователей. В связи с этим не будем учитывать при расчёте воронки событие Tutorial. "
   ]
  },
  {
   "cell_type": "code",
   "execution_count": 37,
   "id": "42e8e3be",
   "metadata": {},
   "outputs": [
    {
     "data": {
      "text/html": [
       "<div>\n",
       "<style scoped>\n",
       "    .dataframe tbody tr th:only-of-type {\n",
       "        vertical-align: middle;\n",
       "    }\n",
       "\n",
       "    .dataframe tbody tr th {\n",
       "        vertical-align: top;\n",
       "    }\n",
       "\n",
       "    .dataframe thead th {\n",
       "        text-align: right;\n",
       "    }\n",
       "</style>\n",
       "<table border=\"1\" class=\"dataframe\">\n",
       "  <thead>\n",
       "    <tr style=\"text-align: right;\">\n",
       "      <th></th>\n",
       "      <th>event_name</th>\n",
       "      <th>user_id</th>\n",
       "      <th>event_cnt</th>\n",
       "      <th>per</th>\n",
       "    </tr>\n",
       "  </thead>\n",
       "  <tbody>\n",
       "    <tr>\n",
       "      <th>0</th>\n",
       "      <td>MainScreenAppear</td>\n",
       "      <td>7419</td>\n",
       "      <td>117328</td>\n",
       "      <td>98.5</td>\n",
       "    </tr>\n",
       "    <tr>\n",
       "      <th>1</th>\n",
       "      <td>OffersScreenAppear</td>\n",
       "      <td>4593</td>\n",
       "      <td>46333</td>\n",
       "      <td>61.0</td>\n",
       "    </tr>\n",
       "    <tr>\n",
       "      <th>2</th>\n",
       "      <td>CartScreenAppear</td>\n",
       "      <td>3734</td>\n",
       "      <td>42303</td>\n",
       "      <td>49.6</td>\n",
       "    </tr>\n",
       "    <tr>\n",
       "      <th>3</th>\n",
       "      <td>PaymentScreenSuccessful</td>\n",
       "      <td>3539</td>\n",
       "      <td>33918</td>\n",
       "      <td>47.0</td>\n",
       "    </tr>\n",
       "  </tbody>\n",
       "</table>\n",
       "</div>"
      ],
      "text/plain": [
       "                event_name  user_id  event_cnt   per\n",
       "0         MainScreenAppear     7419     117328  98.5\n",
       "1       OffersScreenAppear     4593      46333  61.0\n",
       "2         CartScreenAppear     3734      42303  49.6\n",
       "3  PaymentScreenSuccessful     3539      33918  47.0"
      ]
     },
     "execution_count": 37,
     "metadata": {},
     "output_type": "execute_result"
    }
   ],
   "source": [
    "user_per_event.drop([4], axis=0, inplace=True) # удаляем событие Tutorial\n",
    "user_per_event"
   ]
  },
  {
   "cell_type": "code",
   "execution_count": 38,
   "id": "45f2b9f3",
   "metadata": {},
   "outputs": [
    {
     "data": {
      "text/html": [
       "<div>\n",
       "<style scoped>\n",
       "    .dataframe tbody tr th:only-of-type {\n",
       "        vertical-align: middle;\n",
       "    }\n",
       "\n",
       "    .dataframe tbody tr th {\n",
       "        vertical-align: top;\n",
       "    }\n",
       "\n",
       "    .dataframe thead th {\n",
       "        text-align: right;\n",
       "    }\n",
       "</style>\n",
       "<table border=\"1\" class=\"dataframe\">\n",
       "  <thead>\n",
       "    <tr style=\"text-align: right;\">\n",
       "      <th></th>\n",
       "      <th>event_name</th>\n",
       "      <th>user_id</th>\n",
       "      <th>event_cnt</th>\n",
       "      <th>per</th>\n",
       "      <th>funnel</th>\n",
       "    </tr>\n",
       "  </thead>\n",
       "  <tbody>\n",
       "    <tr>\n",
       "      <th>0</th>\n",
       "      <td>MainScreenAppear</td>\n",
       "      <td>7419</td>\n",
       "      <td>117328</td>\n",
       "      <td>98.5</td>\n",
       "      <td>100.0</td>\n",
       "    </tr>\n",
       "    <tr>\n",
       "      <th>1</th>\n",
       "      <td>OffersScreenAppear</td>\n",
       "      <td>4593</td>\n",
       "      <td>46333</td>\n",
       "      <td>61.0</td>\n",
       "      <td>61.9</td>\n",
       "    </tr>\n",
       "    <tr>\n",
       "      <th>2</th>\n",
       "      <td>CartScreenAppear</td>\n",
       "      <td>3734</td>\n",
       "      <td>42303</td>\n",
       "      <td>49.6</td>\n",
       "      <td>81.3</td>\n",
       "    </tr>\n",
       "    <tr>\n",
       "      <th>3</th>\n",
       "      <td>PaymentScreenSuccessful</td>\n",
       "      <td>3539</td>\n",
       "      <td>33918</td>\n",
       "      <td>47.0</td>\n",
       "      <td>94.8</td>\n",
       "    </tr>\n",
       "  </tbody>\n",
       "</table>\n",
       "</div>"
      ],
      "text/plain": [
       "                event_name  user_id  event_cnt   per  funnel\n",
       "0         MainScreenAppear     7419     117328  98.5   100.0\n",
       "1       OffersScreenAppear     4593      46333  61.0    61.9\n",
       "2         CartScreenAppear     3734      42303  49.6    81.3\n",
       "3  PaymentScreenSuccessful     3539      33918  47.0    94.8"
      ]
     },
     "execution_count": 38,
     "metadata": {},
     "output_type": "execute_result"
    }
   ],
   "source": [
    "# Находим долю пользователей, которые проходят на следующий шаг\n",
    "user_per_event['funnel'] = round(user_per_event['user_id']/user_per_event['user_id'].shift(), 3) * 100 \n",
    "user_per_event['funnel'] = user_per_event['funnel'].fillna(100)\n",
    "user_per_event "
   ]
  },
  {
   "cell_type": "markdown",
   "id": "96edf636",
   "metadata": {},
   "source": [
    "Выяснили, что на шаге получения экрана с предложением теряете больше всего пользователей. "
   ]
  },
  {
   "cell_type": "code",
   "execution_count": 39,
   "id": "5d5b3be5",
   "metadata": {},
   "outputs": [
    {
     "data": {
      "text/plain": [
       "47.699999999999996"
      ]
     },
     "execution_count": 39,
     "metadata": {},
     "output_type": "execute_result"
    }
   ],
   "source": [
    "round(user_per_event.iloc[3,1] / user_per_event.iloc[0,1],3) * 100"
   ]
  },
  {
   "cell_type": "markdown",
   "id": "6bed7242",
   "metadata": {},
   "source": [
    "Получаем, что 47,7% пользователей доходят от первого события до получения экрана с успешной оплатой"
   ]
  },
  {
   "cell_type": "markdown",
   "id": "684e61c7",
   "metadata": {},
   "source": [
    "### Вывод:\n",
    "1. Событие MainScreenAppear происходило чаще всего, что достаточно логично. Любое действие в приложении должно начинаться с открытия гланого экрана. \n",
    "2. Событие Tutorial реже всего случалось. По всей видимости, далеко не всем пользователям нужна инструкция по работе с приложением. \n",
    "3. По вороне событий мы выяснили, что на шаге получения экрана с предложением теряется больше всего пользователей.\n",
    "4. До экрана с отображением успешного платежа доходят 47,7% пользователей"
   ]
  },
  {
   "cell_type": "markdown",
   "id": "abbd3903",
   "metadata": {},
   "source": [
    "## Изучим результаты эксперимента"
   ]
  },
  {
   "cell_type": "code",
   "execution_count": 40,
   "id": "7d8a883d",
   "metadata": {},
   "outputs": [
    {
     "data": {
      "text/html": [
       "<div>\n",
       "<style scoped>\n",
       "    .dataframe tbody tr th:only-of-type {\n",
       "        vertical-align: middle;\n",
       "    }\n",
       "\n",
       "    .dataframe tbody tr th {\n",
       "        vertical-align: top;\n",
       "    }\n",
       "\n",
       "    .dataframe thead th {\n",
       "        text-align: right;\n",
       "    }\n",
       "</style>\n",
       "<table border=\"1\" class=\"dataframe\">\n",
       "  <thead>\n",
       "    <tr style=\"text-align: right;\">\n",
       "      <th></th>\n",
       "      <th>exp_id</th>\n",
       "      <th>user_id</th>\n",
       "    </tr>\n",
       "  </thead>\n",
       "  <tbody>\n",
       "    <tr>\n",
       "      <th>0</th>\n",
       "      <td>248</td>\n",
       "      <td>2537</td>\n",
       "    </tr>\n",
       "    <tr>\n",
       "      <th>1</th>\n",
       "      <td>247</td>\n",
       "      <td>2513</td>\n",
       "    </tr>\n",
       "    <tr>\n",
       "      <th>2</th>\n",
       "      <td>246</td>\n",
       "      <td>2484</td>\n",
       "    </tr>\n",
       "  </tbody>\n",
       "</table>\n",
       "</div>"
      ],
      "text/plain": [
       "   exp_id  user_id\n",
       "0     248     2537\n",
       "1     247     2513\n",
       "2     246     2484"
      ]
     },
     "execution_count": 40,
     "metadata": {},
     "output_type": "execute_result"
    }
   ],
   "source": [
    "good_data.groupby('exp_id').agg({'user_id': 'nunique'}).sort_values(by='user_id', ascending=False).reset_index()"
   ]
  },
  {
   "cell_type": "markdown",
   "id": "0cfca432",
   "metadata": {},
   "source": [
    "1. В экспериментальной группе \"248\" больше всего пользователей (2537 человек). В группе \"247\" 2513 пользователей. В группе \"246\" 2484 лиц. \n",
    "2. В каждой группе примерное равное количество человек."
   ]
  },
  {
   "cell_type": "markdown",
   "id": "c8c07685",
   "metadata": {},
   "source": [
    "### Проверим, находят ли статистические критерии разницу между выборками 246 и 247."
   ]
  },
  {
   "cell_type": "markdown",
   "id": "c95eda23",
   "metadata": {},
   "source": [
    "(Если я правильно понял, то) Нам нужно проверить есть ли разница в совершении покупок между контрольными группами 246 и 247."
   ]
  },
  {
   "cell_type": "code",
   "execution_count": 41,
   "id": "a6a86a93",
   "metadata": {},
   "outputs": [
    {
     "data": {
      "text/html": [
       "<div>\n",
       "<style scoped>\n",
       "    .dataframe tbody tr th:only-of-type {\n",
       "        vertical-align: middle;\n",
       "    }\n",
       "\n",
       "    .dataframe tbody tr th {\n",
       "        vertical-align: top;\n",
       "    }\n",
       "\n",
       "    .dataframe thead th {\n",
       "        text-align: right;\n",
       "    }\n",
       "</style>\n",
       "<table border=\"1\" class=\"dataframe\">\n",
       "  <thead>\n",
       "    <tr style=\"text-align: right;\">\n",
       "      <th></th>\n",
       "      <th>event_name</th>\n",
       "      <th>user_id</th>\n",
       "      <th>event_time</th>\n",
       "      <th>exp_id</th>\n",
       "      <th>time</th>\n",
       "      <th>day</th>\n",
       "    </tr>\n",
       "  </thead>\n",
       "  <tbody>\n",
       "    <tr>\n",
       "      <th>2847</th>\n",
       "      <td>PaymentScreenSuccessful</td>\n",
       "      <td>4613461174774205834</td>\n",
       "      <td>1564618483</td>\n",
       "      <td>248</td>\n",
       "      <td>2019-08-01 00:14:43</td>\n",
       "      <td>2019-08-01</td>\n",
       "    </tr>\n",
       "    <tr>\n",
       "      <th>2863</th>\n",
       "      <td>PaymentScreenSuccessful</td>\n",
       "      <td>2712290788139738557</td>\n",
       "      <td>1564618964</td>\n",
       "      <td>247</td>\n",
       "      <td>2019-08-01 00:22:44</td>\n",
       "      <td>2019-08-01</td>\n",
       "    </tr>\n",
       "    <tr>\n",
       "      <th>2867</th>\n",
       "      <td>PaymentScreenSuccessful</td>\n",
       "      <td>2712290788139738557</td>\n",
       "      <td>1564618988</td>\n",
       "      <td>247</td>\n",
       "      <td>2019-08-01 00:23:08</td>\n",
       "      <td>2019-08-01</td>\n",
       "    </tr>\n",
       "    <tr>\n",
       "      <th>2871</th>\n",
       "      <td>PaymentScreenSuccessful</td>\n",
       "      <td>2712290788139738557</td>\n",
       "      <td>1564619000</td>\n",
       "      <td>247</td>\n",
       "      <td>2019-08-01 00:23:20</td>\n",
       "      <td>2019-08-01</td>\n",
       "    </tr>\n",
       "    <tr>\n",
       "      <th>2873</th>\n",
       "      <td>PaymentScreenSuccessful</td>\n",
       "      <td>2712290788139738557</td>\n",
       "      <td>1564619014</td>\n",
       "      <td>247</td>\n",
       "      <td>2019-08-01 00:23:34</td>\n",
       "      <td>2019-08-01</td>\n",
       "    </tr>\n",
       "  </tbody>\n",
       "</table>\n",
       "</div>"
      ],
      "text/plain": [
       "                   event_name              user_id  event_time  exp_id  \\\n",
       "2847  PaymentScreenSuccessful  4613461174774205834  1564618483     248   \n",
       "2863  PaymentScreenSuccessful  2712290788139738557  1564618964     247   \n",
       "2867  PaymentScreenSuccessful  2712290788139738557  1564618988     247   \n",
       "2871  PaymentScreenSuccessful  2712290788139738557  1564619000     247   \n",
       "2873  PaymentScreenSuccessful  2712290788139738557  1564619014     247   \n",
       "\n",
       "                    time         day  \n",
       "2847 2019-08-01 00:14:43  2019-08-01  \n",
       "2863 2019-08-01 00:22:44  2019-08-01  \n",
       "2867 2019-08-01 00:23:08  2019-08-01  \n",
       "2871 2019-08-01 00:23:20  2019-08-01  \n",
       "2873 2019-08-01 00:23:34  2019-08-01  "
      ]
     },
     "execution_count": 41,
     "metadata": {},
     "output_type": "execute_result"
    }
   ],
   "source": [
    "conversion_data = good_data.query('event_name == \"PaymentScreenSuccessful\"') \n",
    "# Если у пользователя отобразился успешный платеж, значит он совершил покупку, \n",
    "# поэтому выполнили срез по событию \"PaymentScreenSuccessful\"\n",
    "\n",
    "conversion_data.head()"
   ]
  },
  {
   "cell_type": "code",
   "execution_count": 42,
   "id": "7700caca",
   "metadata": {},
   "outputs": [
    {
     "data": {
      "text/plain": [
       "1200"
      ]
     },
     "execution_count": 42,
     "metadata": {},
     "output_type": "execute_result"
    }
   ],
   "source": [
    "pay_group_246 = conversion_data.query('exp_id == 246')\n",
    "cnt_users_246 = pay_group_246['user_id'].nunique() # Количество пользователей группы 246, которые совершили покупку\n",
    "cnt_users_246"
   ]
  },
  {
   "cell_type": "code",
   "execution_count": 43,
   "id": "1e991e38",
   "metadata": {},
   "outputs": [
    {
     "data": {
      "text/plain": [
       "1158"
      ]
     },
     "execution_count": 43,
     "metadata": {},
     "output_type": "execute_result"
    }
   ],
   "source": [
    "pay_group_247 = conversion_data.query('exp_id == 247')\n",
    "cnt_users_247 = pay_group_247['user_id'].nunique() # Количество пользователей группы 247, которые совершили покупку\n",
    "cnt_users_247"
   ]
  },
  {
   "cell_type": "markdown",
   "id": "13ad8064",
   "metadata": {},
   "source": [
    "- Количество пользователей группы 246, которые совершили покупку - 1200 человек\n",
    "- Количество пользователей группы 247, которые совершили покупку - 1158 человек"
   ]
  },
  {
   "cell_type": "markdown",
   "id": "93b74a8f",
   "metadata": {},
   "source": [
    "Выдвинем гипотезу\n",
    "- H0: Между выборками различий в количестве пользователей, совершивших покупку, нет\n",
    "- H1: Между выборками есть различия в количестве пользователей, совершивших покупку"
   ]
  },
  {
   "cell_type": "code",
   "execution_count": 45,
   "id": "b608a137",
   "metadata": {},
   "outputs": [
    {
     "data": {
      "text/html": [
       "<div>\n",
       "<style scoped>\n",
       "    .dataframe tbody tr th:only-of-type {\n",
       "        vertical-align: middle;\n",
       "    }\n",
       "\n",
       "    .dataframe tbody tr th {\n",
       "        vertical-align: top;\n",
       "    }\n",
       "\n",
       "    .dataframe thead th {\n",
       "        text-align: right;\n",
       "    }\n",
       "</style>\n",
       "<table border=\"1\" class=\"dataframe\">\n",
       "  <thead>\n",
       "    <tr style=\"text-align: right;\">\n",
       "      <th></th>\n",
       "      <th>exp_id</th>\n",
       "      <th>user_id</th>\n",
       "    </tr>\n",
       "  </thead>\n",
       "  <tbody>\n",
       "    <tr>\n",
       "      <th>0</th>\n",
       "      <td>248</td>\n",
       "      <td>2537</td>\n",
       "    </tr>\n",
       "    <tr>\n",
       "      <th>1</th>\n",
       "      <td>247</td>\n",
       "      <td>2513</td>\n",
       "    </tr>\n",
       "    <tr>\n",
       "      <th>2</th>\n",
       "      <td>246</td>\n",
       "      <td>2484</td>\n",
       "    </tr>\n",
       "  </tbody>\n",
       "</table>\n",
       "</div>"
      ],
      "text/plain": [
       "   exp_id  user_id\n",
       "0     248     2537\n",
       "1     247     2513\n",
       "2     246     2484"
      ]
     },
     "execution_count": 45,
     "metadata": {},
     "output_type": "execute_result"
    }
   ],
   "source": [
    "group_users = good_data.groupby('exp_id').agg({'user_id': 'nunique'}).sort_values(by='user_id', ascending=False).reset_index()\n",
    "group_users\n",
    "# Вспоминаем нашу группированную таблицу пользователей по группам."
   ]
  },
  {
   "cell_type": "code",
   "execution_count": 46,
   "id": "e59bd635",
   "metadata": {},
   "outputs": [
    {
     "name": "stdout",
     "output_type": "stream",
     "text": [
      "p-значение:  0.11456679313141849\n",
      "Не получилось отвергнуть нулевую гипотезу, нет оснований считать, что есть различия в количестве пользователей, совершивших покупку\n"
     ]
    }
   ],
   "source": [
    "alpha = .05 # критический уровень статистической значимости\n",
    "\n",
    "# пропорция покупок в группе 246:\n",
    "p1 = cnt_users_246 / group_users.loc[2,'user_id']\n",
    "# пропорция покупок во группе 247:\n",
    "p2 = cnt_users_247 / group_users.loc[1,'user_id']\n",
    "\n",
    "# пропорция покупок в комбинированном датасете:\n",
    "p_combined = (cnt_users_246 + cnt_users_247) / (group_users.loc[2,'user_id'] + group_users.loc[1,'user_id'])\n",
    "\n",
    "# разница пропорций в датасетах\n",
    "difference = p1 - p2 \n",
    "\n",
    "# считаем статистику в ст.отклонениях стандартного нормального распределения\n",
    "z_value = difference / np.sqrt(p_combined * (1 - p_combined) * (1/group_users.loc[2,'user_id'] + 1/group_users.loc[1,'user_id']))\n",
    "\n",
    "# задаем стандартное нормальное распределение (среднее 0, ст.отклонение 1)\n",
    "distr = st.norm(0, 1)  \n",
    "\n",
    "p_value = (1 - distr.cdf(abs(z_value))) * 2\n",
    "\n",
    "\n",
    "print('p-значение: ', p_value)\n",
    "\n",
    "if (p_value < alpha):\n",
    "    print(\"Отвергаем нулевую гипотезу: между долями есть значимая разница\")\n",
    "else:\n",
    "    print(\n",
    "        'Не получилось отвергнуть нулевую гипотезу, нет оснований считать, что есть различия в количестве пользователей, совершивших покупку'\n",
    "    )    "
   ]
  },
  {
   "cell_type": "markdown",
   "id": "831f09a7",
   "metadata": {},
   "source": [
    "Вывод:\n",
    "1. Разницы в доли пользователей, совершивших покупки, между группами нет. \n",
    "2. При этом стоит заметить, что в данном случае p-значение оказалось чуть выше 11%, то есть уже на 12%-м уровне значимости гопитеза была бы отвергнута."
   ]
  },
  {
   "cell_type": "markdown",
   "id": "60683e12",
   "metadata": {},
   "source": [
    "### Проверим, будет ли отличие в доли пользователей, совершивших самое популярное событие между контрольными группами статистически достоверным."
   ]
  },
  {
   "cell_type": "code",
   "execution_count": 47,
   "id": "88d08e58",
   "metadata": {},
   "outputs": [
    {
     "data": {
      "text/html": [
       "<div>\n",
       "<style scoped>\n",
       "    .dataframe tbody tr th:only-of-type {\n",
       "        vertical-align: middle;\n",
       "    }\n",
       "\n",
       "    .dataframe tbody tr th {\n",
       "        vertical-align: top;\n",
       "    }\n",
       "\n",
       "    .dataframe thead th {\n",
       "        text-align: right;\n",
       "    }\n",
       "</style>\n",
       "<table border=\"1\" class=\"dataframe\">\n",
       "  <thead>\n",
       "    <tr style=\"text-align: right;\">\n",
       "      <th></th>\n",
       "      <th>event_name</th>\n",
       "      <th>user_id</th>\n",
       "      <th>event_cnt</th>\n",
       "      <th>per</th>\n",
       "      <th>funnel</th>\n",
       "    </tr>\n",
       "  </thead>\n",
       "  <tbody>\n",
       "    <tr>\n",
       "      <th>0</th>\n",
       "      <td>MainScreenAppear</td>\n",
       "      <td>7419</td>\n",
       "      <td>117328</td>\n",
       "      <td>98.5</td>\n",
       "      <td>100.0</td>\n",
       "    </tr>\n",
       "    <tr>\n",
       "      <th>1</th>\n",
       "      <td>OffersScreenAppear</td>\n",
       "      <td>4593</td>\n",
       "      <td>46333</td>\n",
       "      <td>61.0</td>\n",
       "      <td>61.9</td>\n",
       "    </tr>\n",
       "    <tr>\n",
       "      <th>2</th>\n",
       "      <td>CartScreenAppear</td>\n",
       "      <td>3734</td>\n",
       "      <td>42303</td>\n",
       "      <td>49.6</td>\n",
       "      <td>81.3</td>\n",
       "    </tr>\n",
       "    <tr>\n",
       "      <th>3</th>\n",
       "      <td>PaymentScreenSuccessful</td>\n",
       "      <td>3539</td>\n",
       "      <td>33918</td>\n",
       "      <td>47.0</td>\n",
       "      <td>94.8</td>\n",
       "    </tr>\n",
       "  </tbody>\n",
       "</table>\n",
       "</div>"
      ],
      "text/plain": [
       "                event_name  user_id  event_cnt   per  funnel\n",
       "0         MainScreenAppear     7419     117328  98.5   100.0\n",
       "1       OffersScreenAppear     4593      46333  61.0    61.9\n",
       "2         CartScreenAppear     3734      42303  49.6    81.3\n",
       "3  PaymentScreenSuccessful     3539      33918  47.0    94.8"
      ]
     },
     "execution_count": 47,
     "metadata": {},
     "output_type": "execute_result"
    }
   ],
   "source": [
    "user_per_event"
   ]
  },
  {
   "cell_type": "markdown",
   "id": "a6323fae",
   "metadata": {},
   "source": [
    "Ранее мы выяснили, что самое популярное событие это MainScreenAppear (открытие приложения)"
   ]
  },
  {
   "cell_type": "markdown",
   "id": "4deb7565",
   "metadata": {},
   "source": [
    "Посчитаем число пользователей, совершивших это событие в каждой из контрольных групп. "
   ]
  },
  {
   "cell_type": "code",
   "execution_count": 48,
   "id": "f4f6609e",
   "metadata": {},
   "outputs": [],
   "source": [
    "main_screen_appear = good_data.query('event_name == \"MainScreenAppear\"')\n",
    "# Срез по событию \"MainScreenAppear\""
   ]
  },
  {
   "cell_type": "code",
   "execution_count": 49,
   "id": "fb6e648e",
   "metadata": {},
   "outputs": [],
   "source": [
    "msa_group_246 = main_screen_appear.query('exp_id == 246')\n",
    "cnt_msa_group_246 = msa_group_246['user_id'].nunique() \n",
    "# Количество пользователей группы 246, которые открыли приложение"
   ]
  },
  {
   "cell_type": "code",
   "execution_count": 50,
   "id": "1c82825b",
   "metadata": {},
   "outputs": [],
   "source": [
    "msa_group_247 = main_screen_appear.query('exp_id == 247')\n",
    "cnt_msa_group_247 = msa_group_247['user_id'].nunique() \n",
    "# Количество пользователей группы 247, которые открыли приложение"
   ]
  },
  {
   "cell_type": "markdown",
   "id": "6925d0e0",
   "metadata": {},
   "source": [
    "- H0: Между выборками различий в количестве пользователей, открывших приложение, нет\n",
    "- H1: Между выборками есть различия в количестве пользователей, открывших приложение"
   ]
  },
  {
   "cell_type": "code",
   "execution_count": 52,
   "id": "580d4736",
   "metadata": {},
   "outputs": [
    {
     "name": "stdout",
     "output_type": "stream",
     "text": [
      "p-значение:  0.7570597232046099\n",
      "Не получилось отвергнуть нулевую гипотезу, нет оснований считать есть, что различия в количестве пользователей, открывших приложение\n"
     ]
    }
   ],
   "source": [
    "alpha = .05 # критический уровень статистической значимости\n",
    "\n",
    "# пропорция покупок в группе 246:\n",
    "p1 = cnt_msa_group_246 / group_users.loc[2,'user_id']\n",
    "# пропорция покупок во группе 247:\n",
    "p2 = cnt_msa_group_247 / group_users.loc[1,'user_id']\n",
    "\n",
    "# пропорция покупок в комбинированном датасете:\n",
    "p_combined = (cnt_msa_group_246 + cnt_msa_group_247) / (group_users.loc[2,'user_id'] + group_users.loc[1,'user_id'])\n",
    "\n",
    "# разница пропорций в датасетах\n",
    "difference = p1 - p2 \n",
    "\n",
    "# считаем статистику в ст.отклонениях стандартного нормального распределения\n",
    "z_value = difference / np.sqrt(p_combined * (1 - p_combined) * (1/group_users.loc[2,'user_id'] + 1/group_users.loc[1,'user_id']))\n",
    "\n",
    "# задаем стандартное нормальное распределение (среднее 0, ст.отклонение 1)\n",
    "distr = st.norm(0, 1)  \n",
    "\n",
    "p_value = (1 - distr.cdf(abs(z_value))) * 2\n",
    "\n",
    "\n",
    "print('p-значение: ', p_value)\n",
    "\n",
    "if (p_value < alpha):\n",
    "    print(\"Отвергаем нулевую гипотезу: между долями есть значимая разница\")\n",
    "else:\n",
    "    print(\n",
    "        'Не получилось отвергнуть нулевую гипотезу, нет оснований считать есть, что различия в количестве пользователей, открывших приложение'\n",
    "    ) "
   ]
  },
  {
   "cell_type": "markdown",
   "id": "edee7efe",
   "metadata": {},
   "source": [
    "Вывод: Нулевая гипотеза подтвердилась. Разницы в доли пользователей, открывших приложение, нет. "
   ]
  },
  {
   "cell_type": "markdown",
   "id": "9a31e04e",
   "metadata": {},
   "source": [
    "### Проверим, будет ли отличие между контрольными группами статистически достоверным для всех других событий."
   ]
  },
  {
   "cell_type": "markdown",
   "id": "72965360",
   "metadata": {},
   "source": [
    "Обернем проверку в отдельную функцию"
   ]
  },
  {
   "cell_type": "code",
   "execution_count": 53,
   "id": "658aa24e",
   "metadata": {},
   "outputs": [],
   "source": [
    "def z_test(group_1, group_2, event, alpha):\n",
    "    \n",
    "    # критический уровень статистической значимости\n",
    "    alpha = alpha\n",
    "    \n",
    "    # Количество пользователей в группах\n",
    "    cnt_users_1 = group_1['user_id'].nunique()\n",
    "    \n",
    "    cnt_users_2 = group_2['user_id'].nunique()\n",
    "    \n",
    "    # Срез по событию\n",
    "    cnt_users_of_event_1 = group_1.query('event_name == @event')\n",
    "    cnt_users_of_event_1 = cnt_users_of_event_1['user_id'].nunique()\n",
    "    \n",
    "    cnt_users_of_event_2 = group_2.query('event_name == @event')\n",
    "    cnt_users_of_event_2 = cnt_users_of_event_2['user_id'].nunique()\n",
    "    \n",
    "    \n",
    "    # пропорция покупок в группе 246:\n",
    "    p1 = cnt_users_of_event_1 / cnt_users_1\n",
    "    # пропорция покупок во группе 247:\n",
    "    p2 = cnt_users_of_event_2 / cnt_users_2\n",
    "\n",
    "    # пропорция покупок в комбинированном датасете:\n",
    "    p_combined = (cnt_users_of_event_1 + cnt_users_of_event_2) / (cnt_users_1 + cnt_users_2)\n",
    "    \n",
    "    # разница пропорций в датасетах\n",
    "    difference = p1 - p2 \n",
    "\n",
    "    # считаем статистику в ст.отклонениях стандартного нормального распределения\n",
    "    z_value = difference / np.sqrt(p_combined * (1 - p_combined) * (1/cnt_users_1 + 1/cnt_users_2))\n",
    "\n",
    "    # задаем стандартное нормальное распределение (среднее 0, ст.отклонение 1)\n",
    "    distr = st.norm(0, 1)  \n",
    "\n",
    "    p_value = (1 - distr.cdf(abs(z_value))) * 2\n",
    "\n",
    "    print()\n",
    "    print(event)\n",
    "    print('p-значение: ', p_value)\n",
    "\n",
    "    if (p_value < alpha):\n",
    "        print(\"Отвергаем нулевую гипотезу: между долями есть значимая разница\")\n",
    "    else:\n",
    "        print(\n",
    "        'Не получилось отвергнуть нулевую гипотезу, нет оснований считать доли разными'\n",
    "    )  "
   ]
  },
  {
   "cell_type": "code",
   "execution_count": 54,
   "id": "c0011395",
   "metadata": {},
   "outputs": [],
   "source": [
    "# Дадим каждой группе свою переменную\n",
    "group_246 = good_data.query('exp_id == 246')\n",
    "group_247 = good_data.query('exp_id == 247')\n",
    "group_248 = good_data.query('exp_id == 248')"
   ]
  },
  {
   "cell_type": "code",
   "execution_count": 55,
   "id": "ceb0453b",
   "metadata": {},
   "outputs": [],
   "source": [
    "# Для удобтсва в переменной all_events будут храниться список всех событий\n",
    "all_events = user_per_event['event_name'].unique()\n",
    "alpha = 0.05"
   ]
  },
  {
   "cell_type": "markdown",
   "id": "5b023f2e",
   "metadata": {},
   "source": [
    "- H0: Между выборками различий нет\n",
    "- H1: Между выборками есть различия"
   ]
  },
  {
   "cell_type": "code",
   "execution_count": 56,
   "id": "bce5663f",
   "metadata": {
    "scrolled": true
   },
   "outputs": [
    {
     "name": "stdout",
     "output_type": "stream",
     "text": [
      "\n",
      "MainScreenAppear\n",
      "p-значение:  0.7570597232046099\n",
      "Не получилось отвергнуть нулевую гипотезу, нет оснований считать доли разными\n",
      "\n",
      "OffersScreenAppear\n",
      "p-значение:  0.2480954578522181\n",
      "Не получилось отвергнуть нулевую гипотезу, нет оснований считать доли разными\n",
      "\n",
      "CartScreenAppear\n",
      "p-значение:  0.22883372237997213\n",
      "Не получилось отвергнуть нулевую гипотезу, нет оснований считать доли разными\n",
      "\n",
      "PaymentScreenSuccessful\n",
      "p-значение:  0.11456679313141849\n",
      "Не получилось отвергнуть нулевую гипотезу, нет оснований считать доли разными\n"
     ]
    }
   ],
   "source": [
    "for event in all_events:\n",
    "    z_test(group_246, group_247, event, alpha)"
   ]
  },
  {
   "cell_type": "markdown",
   "id": "62bd5d50",
   "metadata": {},
   "source": [
    "Вывод:\n",
    "1. Можем сказать, что разбиение на группы работает корректно, так как различий между группами нет. Ни одна из них не выделяется.\n",
    "2. При этом если увеличить критический уровень статистической значимости, то гипотеза может быть отвергнута для события PaymentScreenSuccessful "
   ]
  },
  {
   "cell_type": "markdown",
   "id": "0a57ef51",
   "metadata": {},
   "source": [
    "### Сравним результаты экспериментальной группы с каждой из контрольных групп в отдельности по каждому событию."
   ]
  },
  {
   "cell_type": "markdown",
   "id": "498bb993",
   "metadata": {},
   "source": [
    "Проведем проверку 246 группы и 248:"
   ]
  },
  {
   "cell_type": "markdown",
   "id": "5cddef02",
   "metadata": {},
   "source": [
    "- H0: Между выборками различий нет\n",
    "- H1: Между выборками есть различия"
   ]
  },
  {
   "cell_type": "code",
   "execution_count": 57,
   "id": "c15c03d5",
   "metadata": {},
   "outputs": [
    {
     "name": "stdout",
     "output_type": "stream",
     "text": [
      "\n",
      "MainScreenAppear\n",
      "p-значение:  0.2949721933554552\n",
      "Не получилось отвергнуть нулевую гипотезу, нет оснований считать доли разными\n",
      "\n",
      "OffersScreenAppear\n",
      "p-значение:  0.20836205402738917\n",
      "Не получилось отвергнуть нулевую гипотезу, нет оснований считать доли разными\n",
      "\n",
      "CartScreenAppear\n",
      "p-значение:  0.07842923237520116\n",
      "Не получилось отвергнуть нулевую гипотезу, нет оснований считать доли разными\n",
      "\n",
      "PaymentScreenSuccessful\n",
      "p-значение:  0.2122553275697796\n",
      "Не получилось отвергнуть нулевую гипотезу, нет оснований считать доли разными\n"
     ]
    }
   ],
   "source": [
    "for event in all_events:\n",
    "    z_test(group_246, group_248, event, alpha)"
   ]
  },
  {
   "cell_type": "markdown",
   "id": "d0f619fb",
   "metadata": {},
   "source": [
    "Выполним проверку 247 и 248 групп:"
   ]
  },
  {
   "cell_type": "code",
   "execution_count": 58,
   "id": "5a702825",
   "metadata": {},
   "outputs": [
    {
     "name": "stdout",
     "output_type": "stream",
     "text": [
      "\n",
      "MainScreenAppear\n",
      "p-значение:  0.4587053616621515\n",
      "Не получилось отвергнуть нулевую гипотезу, нет оснований считать доли разными\n",
      "\n",
      "OffersScreenAppear\n",
      "p-значение:  0.9197817830592261\n",
      "Не получилось отвергнуть нулевую гипотезу, нет оснований считать доли разными\n",
      "\n",
      "CartScreenAppear\n",
      "p-значение:  0.5786197879539783\n",
      "Не получилось отвергнуть нулевую гипотезу, нет оснований считать доли разными\n",
      "\n",
      "PaymentScreenSuccessful\n",
      "p-значение:  0.7373415053803964\n",
      "Не получилось отвергнуть нулевую гипотезу, нет оснований считать доли разными\n"
     ]
    }
   ],
   "source": [
    "for event in all_events:\n",
    "    z_test(group_247, group_248, event, alpha)"
   ]
  },
  {
   "cell_type": "markdown",
   "id": "b0f14658",
   "metadata": {},
   "source": [
    "Вывод:\n",
    "- Сравнивая по отдельности контрольные группы с экспериментальной группой, мы можем сказать, что стат. значимой разницы контрольных групп с экспериметнальной нет. Нулевая гипотеза подтвердилась. Между выборками различий нет\n",
    "- Новый шрифт в экспериментальной группе не влияет на статистически значимые показатели."
   ]
  },
  {
   "cell_type": "markdown",
   "id": "31c25847",
   "metadata": {},
   "source": [
    "### Сравним результаты экспериментальной группы с объединенными контрольными группами по каждому событию."
   ]
  },
  {
   "cell_type": "code",
   "execution_count": 59,
   "id": "3e548bbb",
   "metadata": {},
   "outputs": [],
   "source": [
    "# Объединили контрольные группы\n",
    "united_usual_group = pd.concat([group_246,group_247]) "
   ]
  },
  {
   "cell_type": "markdown",
   "id": "fe57ff02",
   "metadata": {},
   "source": [
    "- H0: Между выборками различий нет\n",
    "- H1: Между выборками есть различия"
   ]
  },
  {
   "cell_type": "code",
   "execution_count": 60,
   "id": "92434c0d",
   "metadata": {},
   "outputs": [
    {
     "name": "stdout",
     "output_type": "stream",
     "text": [
      "\n",
      "MainScreenAppear\n",
      "p-значение:  0.29424526837179577\n",
      "Не получилось отвергнуть нулевую гипотезу, нет оснований считать доли разными\n",
      "\n",
      "OffersScreenAppear\n",
      "p-значение:  0.43425549655188256\n",
      "Не получилось отвергнуть нулевую гипотезу, нет оснований считать доли разными\n",
      "\n",
      "CartScreenAppear\n",
      "p-значение:  0.18175875284404386\n",
      "Не получилось отвергнуть нулевую гипотезу, нет оснований считать доли разными\n",
      "\n",
      "PaymentScreenSuccessful\n",
      "p-значение:  0.6004294282308704\n",
      "Не получилось отвергнуть нулевую гипотезу, нет оснований считать доли разными\n"
     ]
    }
   ],
   "source": [
    "for event in all_events:\n",
    "    z_test(united_usual_group, group_248, event, alpha)"
   ]
  },
  {
   "cell_type": "markdown",
   "id": "144a6510",
   "metadata": {},
   "source": [
    "Вывод:\n",
    "- Сравнивая экспериментальную группу с контрольными группы после их объединения, мы можем сказать, что стат. значимой разницы объединенной контрольной группы с экспериметнальной нет. Нулевая гипотеза подтвердилась. Между выборками различий нет.\n",
    "- Мы выяснили, что изменненный шрифт в экспериментальной группе не влияет на пользователей."
   ]
  },
  {
   "cell_type": "markdown",
   "id": "bfee5c64",
   "metadata": {},
   "source": [
    "### Посчитаем, сколько проверок статистических гипотез мы сделали и определим какой уровень значимости стоит применить."
   ]
  },
  {
   "cell_type": "markdown",
   "id": "6ddf618a",
   "metadata": {},
   "source": [
    "- Мы выбрали критический уровень статистической значимости 5%\n",
    "- Выполнили 18 проверок. Сравнивали группы по отдельности и объединенные контрольные группы с экспериментальной. \n",
    "- При увеличении критического уровня статистической значимости до 10% мы получим те же самые результаты, кроме одной проверки. С увеличенным уровнем статистической значимости при сравнении группы 246 и 248 в разделе \"CartScreenAppear мы сможем отвергнуть нулевую гипотезу, то есть мы сможем предположить, что шрифт на данном этапе влияет на пользователей.\n",
    "- Тем не менее, будем считать, что выбранный нами критический уровень статистической значимости 5% верный, так как при увеличении уровня статистической значимости будет увеличена вероятность получения ошибочного результата."
   ]
  },
  {
   "cell_type": "markdown",
   "id": "478a558a",
   "metadata": {},
   "source": [
    "## Вывод:\n",
    "- Анализ был выполнен по 243 713 логам. В логах информация о 5 основных событий и 7551 пользователе;\n",
    "- В среднем на пользователя приходится 32 события, а медиана - 20 событий;\n",
    "- Выяснили, что на самом деле нам предоставлены данные за период с 01.08.2019 до 07.08.2019. По этим данным была проведена работа;\n",
    "- Составиили воронку событий и получили, что чаще всего происходило событие MainScreenAppear (появление главного экрана приложения), реже всего пользователям была интересна инструкция по работе в приложении (событие Tutorial), от начала до конца, то есть до экрана с успешным платежом доходят 47,7% пользователей. \n",
    "- Провели проверку контрольных групп (А/А-тест) и определили, что они распределены правильно, и разницы между ними нет. Это позволило нам проверсти А/В-тест с экспериментальной группой.\n",
    "- Мы сравнили группы по отдельности, а также с объединенной контрольной группой. По результату исследования нулевую гипотезу о том, что между выборками нет разницы у нас не получилось отвергнуть. То есть было принято решение о том, что измененный шрифт не влияет на пользователей. Однако замена шрифта - это излишние траты, поэтому смысла заменять шрифт, если он не влияет на пользователей положительно - нет.  "
   ]
  }
 ],
 "metadata": {
  "ExecuteTimeLog": [
   {
    "duration": 1271,
    "start_time": "2023-08-20T14:04:33.644Z"
   },
   {
    "duration": 769,
    "start_time": "2023-08-20T14:04:34.917Z"
   },
   {
    "duration": 10,
    "start_time": "2023-08-20T14:04:35.688Z"
   },
   {
    "duration": 40,
    "start_time": "2023-08-20T14:04:35.700Z"
   },
   {
    "duration": 21,
    "start_time": "2023-08-20T14:04:35.742Z"
   },
   {
    "duration": 31,
    "start_time": "2023-08-20T14:04:35.765Z"
   },
   {
    "duration": 88,
    "start_time": "2023-08-20T14:04:35.797Z"
   },
   {
    "duration": 98,
    "start_time": "2023-08-20T14:04:35.886Z"
   },
   {
    "duration": 39,
    "start_time": "2023-08-20T14:04:35.986Z"
   },
   {
    "duration": 81,
    "start_time": "2023-08-20T14:04:36.027Z"
   },
   {
    "duration": 9,
    "start_time": "2023-08-20T14:04:36.109Z"
   },
   {
    "duration": 39,
    "start_time": "2023-08-20T14:04:36.120Z"
   },
   {
    "duration": 22,
    "start_time": "2023-08-20T14:04:36.160Z"
   },
   {
    "duration": 19,
    "start_time": "2023-08-20T14:04:36.183Z"
   },
   {
    "duration": 46,
    "start_time": "2023-08-20T14:04:36.204Z"
   },
   {
    "duration": 7,
    "start_time": "2023-08-20T14:04:36.252Z"
   },
   {
    "duration": 17,
    "start_time": "2023-08-20T14:04:36.260Z"
   },
   {
    "duration": 16,
    "start_time": "2023-08-20T14:04:36.279Z"
   },
   {
    "duration": 11,
    "start_time": "2023-08-20T14:04:36.297Z"
   },
   {
    "duration": 467,
    "start_time": "2023-08-20T14:04:36.309Z"
   },
   {
    "duration": 378,
    "start_time": "2023-08-20T14:04:36.778Z"
   },
   {
    "duration": 354,
    "start_time": "2023-08-20T14:04:37.158Z"
   },
   {
    "duration": 420,
    "start_time": "2023-08-20T14:04:37.513Z"
   },
   {
    "duration": 3,
    "start_time": "2023-08-20T14:04:37.934Z"
   },
   {
    "duration": 25,
    "start_time": "2023-08-20T14:04:37.939Z"
   },
   {
    "duration": 4,
    "start_time": "2023-08-20T14:04:37.966Z"
   },
   {
    "duration": 4,
    "start_time": "2023-08-20T14:04:37.972Z"
   },
   {
    "duration": 4,
    "start_time": "2023-08-20T14:04:37.979Z"
   },
   {
    "duration": 10,
    "start_time": "2023-08-20T14:04:37.984Z"
   },
   {
    "duration": 59,
    "start_time": "2023-08-20T14:04:37.995Z"
   },
   {
    "duration": 26,
    "start_time": "2023-08-20T14:04:38.055Z"
   },
   {
    "duration": 71,
    "start_time": "2023-08-20T14:04:38.082Z"
   },
   {
    "duration": 8,
    "start_time": "2023-08-20T14:04:38.155Z"
   },
   {
    "duration": 11,
    "start_time": "2023-08-20T14:04:38.164Z"
   },
   {
    "duration": 7,
    "start_time": "2023-08-20T14:04:38.177Z"
   },
   {
    "duration": 41,
    "start_time": "2023-08-20T14:04:38.185Z"
   },
   {
    "duration": 40,
    "start_time": "2023-08-20T14:04:38.228Z"
   },
   {
    "duration": 9,
    "start_time": "2023-08-20T14:04:38.270Z"
   },
   {
    "duration": 8,
    "start_time": "2023-08-20T14:04:38.281Z"
   },
   {
    "duration": 8,
    "start_time": "2023-08-20T14:04:38.290Z"
   },
   {
    "duration": 14,
    "start_time": "2023-08-20T14:04:38.300Z"
   },
   {
    "duration": 55,
    "start_time": "2023-08-20T14:04:38.316Z"
   },
   {
    "duration": 11,
    "start_time": "2023-08-20T14:04:38.373Z"
   },
   {
    "duration": 10,
    "start_time": "2023-08-20T14:04:38.386Z"
   },
   {
    "duration": 8,
    "start_time": "2023-08-20T14:04:38.397Z"
   },
   {
    "duration": 12,
    "start_time": "2023-08-20T14:04:38.406Z"
   },
   {
    "duration": 49,
    "start_time": "2023-08-20T14:04:38.421Z"
   },
   {
    "duration": 3,
    "start_time": "2023-08-20T14:04:38.472Z"
   },
   {
    "duration": 96,
    "start_time": "2023-08-20T14:04:38.476Z"
   },
   {
    "duration": 56,
    "start_time": "2023-08-20T14:04:38.573Z"
   },
   {
    "duration": 63,
    "start_time": "2023-08-20T14:04:38.631Z"
   },
   {
    "duration": 44,
    "start_time": "2023-08-20T14:04:38.696Z"
   },
   {
    "duration": 88,
    "start_time": "2023-08-20T14:04:38.742Z"
   },
   {
    "duration": 1075,
    "start_time": "2023-08-20T18:32:25.725Z"
   },
   {
    "duration": 581,
    "start_time": "2023-08-20T18:32:26.802Z"
   },
   {
    "duration": 10,
    "start_time": "2023-08-20T18:32:27.385Z"
   },
   {
    "duration": 24,
    "start_time": "2023-08-20T18:32:27.396Z"
   },
   {
    "duration": 5,
    "start_time": "2023-08-20T18:32:27.421Z"
   },
   {
    "duration": 25,
    "start_time": "2023-08-20T18:32:27.427Z"
   },
   {
    "duration": 58,
    "start_time": "2023-08-20T18:32:27.454Z"
   },
   {
    "duration": 111,
    "start_time": "2023-08-20T18:32:27.514Z"
   },
   {
    "duration": 44,
    "start_time": "2023-08-20T18:32:27.627Z"
   },
   {
    "duration": 66,
    "start_time": "2023-08-20T18:32:27.674Z"
   },
   {
    "duration": 17,
    "start_time": "2023-08-20T18:32:27.742Z"
   },
   {
    "duration": 34,
    "start_time": "2023-08-20T18:32:27.760Z"
   },
   {
    "duration": 23,
    "start_time": "2023-08-20T18:32:27.796Z"
   },
   {
    "duration": 9,
    "start_time": "2023-08-20T18:32:27.820Z"
   },
   {
    "duration": 36,
    "start_time": "2023-08-20T18:32:27.830Z"
   },
   {
    "duration": 8,
    "start_time": "2023-08-20T18:32:27.868Z"
   },
   {
    "duration": 5,
    "start_time": "2023-08-20T18:32:27.877Z"
   },
   {
    "duration": 10,
    "start_time": "2023-08-20T18:32:27.883Z"
   },
   {
    "duration": 5,
    "start_time": "2023-08-20T18:32:27.894Z"
   },
   {
    "duration": 523,
    "start_time": "2023-08-20T18:32:27.901Z"
   },
   {
    "duration": 382,
    "start_time": "2023-08-20T18:32:28.426Z"
   },
   {
    "duration": 362,
    "start_time": "2023-08-20T18:32:28.810Z"
   },
   {
    "duration": 440,
    "start_time": "2023-08-20T18:32:29.174Z"
   },
   {
    "duration": 2,
    "start_time": "2023-08-20T18:32:29.616Z"
   },
   {
    "duration": 26,
    "start_time": "2023-08-20T18:32:29.620Z"
   },
   {
    "duration": 7,
    "start_time": "2023-08-20T18:32:29.648Z"
   },
   {
    "duration": 4,
    "start_time": "2023-08-20T18:32:29.656Z"
   },
   {
    "duration": 3,
    "start_time": "2023-08-20T18:32:29.663Z"
   },
   {
    "duration": 11,
    "start_time": "2023-08-20T18:32:29.668Z"
   },
   {
    "duration": 7,
    "start_time": "2023-08-20T18:32:29.680Z"
   },
   {
    "duration": 12,
    "start_time": "2023-08-20T18:32:29.688Z"
   },
   {
    "duration": 10,
    "start_time": "2023-08-20T18:32:29.701Z"
   },
   {
    "duration": 44,
    "start_time": "2023-08-20T18:32:29.712Z"
   },
   {
    "duration": 34,
    "start_time": "2023-08-20T18:32:29.758Z"
   },
   {
    "duration": 27,
    "start_time": "2023-08-20T18:32:29.793Z"
   },
   {
    "duration": 81,
    "start_time": "2023-08-20T18:32:29.822Z"
   },
   {
    "duration": 8,
    "start_time": "2023-08-20T18:32:29.904Z"
   },
   {
    "duration": 11,
    "start_time": "2023-08-20T18:32:29.913Z"
   },
   {
    "duration": 8,
    "start_time": "2023-08-20T18:32:29.925Z"
   },
   {
    "duration": 32,
    "start_time": "2023-08-20T18:32:29.952Z"
   },
   {
    "duration": 16,
    "start_time": "2023-08-20T18:32:29.985Z"
   },
   {
    "duration": 40,
    "start_time": "2023-08-20T18:32:30.003Z"
   },
   {
    "duration": 20,
    "start_time": "2023-08-20T18:32:30.045Z"
   },
   {
    "duration": 26,
    "start_time": "2023-08-20T18:32:30.066Z"
   },
   {
    "duration": 78,
    "start_time": "2023-08-20T18:32:30.093Z"
   },
   {
    "duration": 7,
    "start_time": "2023-08-20T18:32:30.173Z"
   },
   {
    "duration": 57,
    "start_time": "2023-08-20T18:32:30.181Z"
   },
   {
    "duration": 45,
    "start_time": "2023-08-20T18:32:30.240Z"
   },
   {
    "duration": 26,
    "start_time": "2023-08-20T18:32:30.287Z"
   },
   {
    "duration": 18,
    "start_time": "2023-08-20T18:32:30.315Z"
   },
   {
    "duration": 43,
    "start_time": "2023-08-20T18:32:30.334Z"
   },
   {
    "duration": 66,
    "start_time": "2023-08-20T18:32:30.379Z"
   },
   {
    "duration": 60,
    "start_time": "2023-08-20T18:32:30.447Z"
   },
   {
    "duration": 91,
    "start_time": "2023-08-20T18:32:30.509Z"
   },
   {
    "duration": 3,
    "start_time": "2023-08-20T18:32:30.602Z"
   },
   {
    "duration": 78,
    "start_time": "2023-08-20T18:32:30.607Z"
   },
   {
    "duration": 73,
    "start_time": "2023-08-20T18:32:30.688Z"
   },
   {
    "duration": 58,
    "start_time": "2023-08-20T18:32:30.763Z"
   },
   {
    "duration": 32,
    "start_time": "2023-08-20T18:32:30.823Z"
   },
   {
    "duration": 96,
    "start_time": "2023-08-20T18:32:30.856Z"
   }
  ],
  "kernelspec": {
   "display_name": "Python 3 (ipykernel)",
   "language": "python",
   "name": "python3"
  },
  "language_info": {
   "codemirror_mode": {
    "name": "ipython",
    "version": 3
   },
   "file_extension": ".py",
   "mimetype": "text/x-python",
   "name": "python",
   "nbconvert_exporter": "python",
   "pygments_lexer": "ipython3",
   "version": "3.9.13"
  },
  "toc": {
   "base_numbering": 1,
   "nav_menu": {},
   "number_sections": true,
   "sideBar": true,
   "skip_h1_title": true,
   "title_cell": "Table of Contents",
   "title_sidebar": "Contents",
   "toc_cell": true,
   "toc_position": {
    "height": "calc(100% - 180px)",
    "left": "10px",
    "top": "150px",
    "width": "309.8px"
   },
   "toc_section_display": true,
   "toc_window_display": true
  }
 },
 "nbformat": 4,
 "nbformat_minor": 5
}
